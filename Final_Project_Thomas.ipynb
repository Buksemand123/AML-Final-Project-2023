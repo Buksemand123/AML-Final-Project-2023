{
 "cells": [
  {
   "cell_type": "code",
   "execution_count": 14,
   "id": "36e397cf-c417-426a-84e9-05134d05777b",
   "metadata": {},
   "outputs": [
    {
     "name": "stdout",
     "output_type": "stream",
     "text": [
      "Reinitialized existing Git repository in /home/jovyan/work/AML/Final Project/.git/\n",
      "error: remote origin already exists.\n",
      "error: src refspec master does not match any\n",
      "\u001b[31merror: failed to push some refs to 'https://github.com/Buksemand123/AML-Final-Project-2023.git'\n",
      "\u001b[m"
     ]
    }
   ],
   "source": [
    "!git init\n",
    "!git remote add origin https://github.com/Buksemand123/AML-Final-Project-2023.git\n",
    "!git config --global user.email \"thomas@sando.dk\"\n",
    "!git config --global user.name \"Your Name\"\n",
    "!git add \"Final_Project_Thomas.ipynb\"\n",
    "!git commit -m \"Initial commit\"\n",
    "!git push -u origin master"
   ]
  },
  {
   "cell_type": "code",
   "execution_count": null,
   "id": "108a6358-3377-46df-89f3-976c95dcda0a",
   "metadata": {},
   "outputs": [],
   "source": []
  }
 ],
 "metadata": {
  "kernelspec": {
   "display_name": "Python 3 (ipykernel)",
   "language": "python",
   "name": "python3"
  },
  "language_info": {
   "codemirror_mode": {
    "name": "ipython",
    "version": 3
   },
   "file_extension": ".py",
   "mimetype": "text/x-python",
   "name": "python",
   "nbconvert_exporter": "python",
   "pygments_lexer": "ipython3",
   "version": "3.8.16"
  }
 },
 "nbformat": 4,
 "nbformat_minor": 5
}
